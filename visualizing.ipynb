{
 "cells": [
  {
   "cell_type": "code",
   "execution_count": 1,
   "id": "f417b424",
   "metadata": {},
   "outputs": [],
   "source": [
    "import torch\n",
    "import cv2\n",
    "import numpy as np"
   ]
  },
  {
   "cell_type": "code",
   "execution_count": 2,
   "id": "d3cc4bee",
   "metadata": {},
   "outputs": [],
   "source": [
    "img01 = cv2.imread('img01.jpg', cv2.IMREAD_COLOR)\n",
    "img02 = cv2.imread('img02.jpg', cv2.IMREAD_GRAYSCALE)\n",
    "img03 = cv2.imread('img03.jpg', cv2.IMREAD_UNCHANGED)"
   ]
  },
  {
   "cell_type": "code",
   "execution_count": 88,
   "id": "f4a54629",
   "metadata": {},
   "outputs": [],
   "source": [
    "img01 = cv2.resize(img03, [250,250])"
   ]
  },
  {
   "cell_type": "code",
   "execution_count": 28,
   "id": "1264b968",
   "metadata": {},
   "outputs": [],
   "source": [
    "cv2.imshow(\"img01\", img01)\n",
    "cv2.waitKey(0)\n",
    "cv2.destroyAllWindows()"
   ]
  },
  {
   "cell_type": "code",
   "execution_count": 285,
   "id": "9773d3c1",
   "metadata": {},
   "outputs": [],
   "source": [
    "img = cv2.imread('Blur07.jpg', cv2.IMREAD_GRAYSCALE)"
   ]
  },
  {
   "cell_type": "code",
   "execution_count": 286,
   "id": "a757c8e3",
   "metadata": {},
   "outputs": [],
   "source": [
    "img = cv2.resize(img, [250,250])\n",
    "img_lap = cv2.Laplacian(img, cv2.CV_64F)\n"
   ]
  },
  {
   "cell_type": "code",
   "execution_count": 287,
   "id": "0bd52821",
   "metadata": {},
   "outputs": [],
   "source": [
    "cv2.imshow(\"img01\", img_lap)\n",
    "cv2.waitKey(0)\n",
    "cv2.destroyAllWindows()"
   ]
  },
  {
   "cell_type": "code",
   "execution_count": 288,
   "id": "680606b9",
   "metadata": {},
   "outputs": [
    {
     "name": "stdout",
     "output_type": "stream",
     "text": [
      "480.46401588710404\n"
     ]
    }
   ],
   "source": [
    "print(img_lap.var())"
   ]
  },
  {
   "cell_type": "code",
   "execution_count": 284,
   "id": "98bc8fc7",
   "metadata": {},
   "outputs": [
    {
     "name": "stdout",
     "output_type": "stream",
     "text": [
      "28.976314189333603\n"
     ]
    }
   ],
   "source": [
    "print(img_lap.std())"
   ]
  },
  {
   "cell_type": "code",
   "execution_count": null,
   "id": "ab552298",
   "metadata": {},
   "outputs": [],
   "source": []
  }
 ],
 "metadata": {
  "kernelspec": {
   "display_name": "Python 3 (ipykernel)",
   "language": "python",
   "name": "python3"
  },
  "language_info": {
   "codemirror_mode": {
    "name": "ipython",
    "version": 3
   },
   "file_extension": ".py",
   "mimetype": "text/x-python",
   "name": "python",
   "nbconvert_exporter": "python",
   "pygments_lexer": "ipython3",
   "version": "3.9.13"
  }
 },
 "nbformat": 4,
 "nbformat_minor": 5
}

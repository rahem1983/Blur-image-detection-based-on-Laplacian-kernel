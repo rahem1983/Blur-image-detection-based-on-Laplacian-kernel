{
 "cells": [
  {
   "cell_type": "code",
   "execution_count": 1,
   "id": "5491deff",
   "metadata": {},
   "outputs": [],
   "source": [
    "import torch\n",
    "import cv2\n",
    "import numpy as np"
   ]
  },
  {
   "cell_type": "code",
   "execution_count": 2,
   "id": "1b8e1887",
   "metadata": {},
   "outputs": [],
   "source": [
    "img01 = cv2.imread('img01.jpg', cv2.IMREAD_COLOR)\n",
    "img02 = cv2.imread('img02.jpg', cv2.IMREAD_GRAYSCALE)\n",
    "img03 = cv2.imread('img03.jpg', cv2.IMREAD_UNCHANGED)"
   ]
  },
  {
   "cell_type": "code",
   "execution_count": 3,
   "id": "4276eb41",
   "metadata": {},
   "outputs": [],
   "source": [
    "img01 = cv2.resize(img03, [250,250])"
   ]
  },
  {
   "cell_type": "code",
   "execution_count": 4,
   "id": "9ad68bd3",
   "metadata": {},
   "outputs": [],
   "source": [
    "cv2.imshow(\"img01\", img01)\n",
    "cv2.waitKey(0)\n",
    "cv2.destroyAllWindows()"
   ]
  },
  {
   "cell_type": "code",
   "execution_count": 188,
   "id": "221a6457",
   "metadata": {},
   "outputs": [],
   "source": [
    "img = cv2.imread('img/17.png', cv2.IMREAD_GRAYSCALE)"
   ]
  },
  {
   "cell_type": "code",
   "execution_count": 189,
   "id": "abc48ab0",
   "metadata": {},
   "outputs": [],
   "source": [
    "# img = cv2.resize(img, [250,250])\n",
    "img_lap = cv2.Laplacian(img, cv2.CV_64F)\n"
   ]
  },
  {
   "cell_type": "code",
   "execution_count": 190,
   "id": "757d9774",
   "metadata": {},
   "outputs": [],
   "source": [
    "cv2.imshow(\"img01\", img_lap)\n",
    "cv2.waitKey(0)\n",
    "cv2.destroyAllWindows()"
   ]
  },
  {
   "cell_type": "code",
   "execution_count": 191,
   "id": "292bd253",
   "metadata": {},
   "outputs": [],
   "source": [
    "blur_pct = 100 * (1 - img_lap.var() / 500)"
   ]
  },
  {
   "cell_type": "code",
   "execution_count": 192,
   "id": "5c8fe7a3",
   "metadata": {},
   "outputs": [
    {
     "name": "stdout",
     "output_type": "stream",
     "text": [
      "78.26075826582166\n"
     ]
    }
   ],
   "source": [
    "print(blur_pct)"
   ]
  },
  {
   "cell_type": "code",
   "execution_count": 193,
   "id": "7d82d306",
   "metadata": {},
   "outputs": [
    {
     "name": "stdout",
     "output_type": "stream",
     "text": [
      "108.69620867089166\n"
     ]
    }
   ],
   "source": [
    "print(img_lap.var())"
   ]
  },
  {
   "cell_type": "code",
   "execution_count": null,
   "id": "7b964e91",
   "metadata": {},
   "outputs": [],
   "source": []
  }
 ],
 "metadata": {
  "kernelspec": {
   "display_name": "Python 3 (ipykernel)",
   "language": "python",
   "name": "python3"
  },
  "language_info": {
   "codemirror_mode": {
    "name": "ipython",
    "version": 3
   },
   "file_extension": ".py",
   "mimetype": "text/x-python",
   "name": "python",
   "nbconvert_exporter": "python",
   "pygments_lexer": "ipython3",
   "version": "3.9.13"
  }
 },
 "nbformat": 4,
 "nbformat_minor": 5
}

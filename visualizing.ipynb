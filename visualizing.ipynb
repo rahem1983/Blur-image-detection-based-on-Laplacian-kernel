{
 "cells": [
  {
   "cell_type": "code",
   "execution_count": 1,
   "id": "64b10a56",
   "metadata": {},
   "outputs": [],
   "source": [
    "import torch\n",
    "import cv2\n",
    "import numpy as np"
   ]
  },
  {
   "cell_type": "code",
   "execution_count": 2,
   "id": "e179ba30",
   "metadata": {},
   "outputs": [],
   "source": [
    "# img01 = cv2.imread('img01.jpg', cv2.IMREAD_COLOR)\n",
    "# img02 = cv2.imread('img02.jpg', cv2.IMREAD_GRAYSCALE)\n",
    "# img03 = cv2.imread('img03.jpg', cv2.IMREAD_UNCHANGED)"
   ]
  },
  {
   "cell_type": "code",
   "execution_count": 3,
   "id": "cac3f607",
   "metadata": {},
   "outputs": [],
   "source": [
    "# img01 = cv2.resize(img03, [250,250])"
   ]
  },
  {
   "cell_type": "code",
   "execution_count": 4,
   "id": "dbf4433f",
   "metadata": {},
   "outputs": [],
   "source": [
    "# cv2.imshow(\"img01\", img01)\n",
    "# cv2.waitKey(0)\n",
    "# cv2.destroyAllWindows()"
   ]
  },
  {
   "cell_type": "code",
   "execution_count": 5,
   "id": "9084f70b",
   "metadata": {},
   "outputs": [],
   "source": [
    "img = cv2.imread('img03_ex_blur.jpg', cv2.IMREAD_GRAYSCALE)"
   ]
  },
  {
   "cell_type": "code",
   "execution_count": 6,
   "id": "366fbcd5",
   "metadata": {},
   "outputs": [],
   "source": [
    "img = cv2.resize(img, [750,450])\n",
    "img_lap = cv2.Laplacian(img, cv2.CV_64F)\n"
   ]
  },
  {
   "cell_type": "code",
   "execution_count": 7,
   "id": "18dde1d7",
   "metadata": {},
   "outputs": [],
   "source": [
    "cv2.imshow(\"img01\", img_lap)\n",
    "cv2.waitKey(0)\n",
    "cv2.destroyAllWindows()"
   ]
  },
  {
   "cell_type": "code",
   "execution_count": 8,
   "id": "e33cacae",
   "metadata": {},
   "outputs": [],
   "source": [
    "blur_pct = 100 * (1 - img_lap.var() / 500)"
   ]
  },
  {
   "cell_type": "code",
   "execution_count": 9,
   "id": "5cc0e17f",
   "metadata": {},
   "outputs": [
    {
     "name": "stdout",
     "output_type": "stream",
     "text": [
      "99.54729215437432\n"
     ]
    }
   ],
   "source": [
    "print(blur_pct)"
   ]
  },
  {
   "cell_type": "code",
   "execution_count": 10,
   "id": "8d7043a4",
   "metadata": {},
   "outputs": [
    {
     "name": "stdout",
     "output_type": "stream",
     "text": [
      "2.263539228128395\n"
     ]
    }
   ],
   "source": [
    "print(img_lap.var())"
   ]
  },
  {
   "cell_type": "markdown",
   "id": "67a72b40",
   "metadata": {},
   "source": [
    "Image Gradient Method"
   ]
  },
  {
   "cell_type": "code",
   "execution_count": 11,
   "id": "e07f87c4",
   "metadata": {},
   "outputs": [
    {
     "name": "stdout",
     "output_type": "stream",
     "text": [
      "Percentage of blur: 99.61216734200346\n"
     ]
    }
   ],
   "source": [
    "\n",
    "# Load the image as grayscale\n",
    "img = cv2.imread('img03_ex_blur.jpg', cv2.IMREAD_GRAYSCALE)\n",
    "\n",
    "# Compute the x and y gradients using Sobel filters\n",
    "grad_x = cv2.Sobel(img, cv2.CV_64F, 1, 0, ksize=3)\n",
    "grad_y = cv2.Sobel(img, cv2.CV_64F, 0, 1, ksize=3)\n",
    "\n",
    "# Compute the gradient magnitude and mean\n",
    "grad_mag = np.sqrt(grad_x**2 + grad_y**2)\n",
    "grad_mean = np.mean(grad_mag)\n",
    "\n",
    "# Compute the percentage of blur\n",
    "blur_pct = 100 * (1 - grad_mean / 255)\n",
    "\n",
    "print('Percentage of blur:', blur_pct)\n"
   ]
  },
  {
   "cell_type": "markdown",
   "id": "a6cead68",
   "metadata": {},
   "source": [
    "Image Entropy Method"
   ]
  },
  {
   "cell_type": "code",
   "execution_count": 26,
   "id": "6ceea0b5",
   "metadata": {},
   "outputs": [],
   "source": [
    "def Entropy_Percentage( img ):\n",
    "   # Compute the image histogram\n",
    "    hist, _ = np.histogram(img, bins=np.arange(256))\n",
    "\n",
    "    # Compute the probability mass function\n",
    "    pmf = hist / np.sum(hist)\n",
    "\n",
    "    # Compute the entropy of the image\n",
    "    entropy = -np.sum(pmf * np.log2(pmf + 1e-10))\n",
    "\n",
    "    # Compute the percentage of blur\n",
    "    blur_pct = 100 * entropy / np.log2(256)\n",
    "\n",
    "    return blur_pct"
   ]
  },
  {
   "cell_type": "code",
   "execution_count": 32,
   "id": "b903a451",
   "metadata": {},
   "outputs": [
    {
     "ename": "TypeError",
     "evalue": "Can't convert object to 'str' for 'filename'",
     "output_type": "error",
     "traceback": [
      "\u001b[1;31m---------------------------------------------------------------------------\u001b[0m",
      "\u001b[1;31mTypeError\u001b[0m                                 Traceback (most recent call last)",
      "\u001b[1;32m~\\AppData\\Local\\Temp\\ipykernel_5728\\734644510.py\u001b[0m in \u001b[0;36m<module>\u001b[1;34m\u001b[0m\n\u001b[0;32m      1\u001b[0m \u001b[0mpath\u001b[0m \u001b[1;33m=\u001b[0m \u001b[1;34m\"21_no_back_blur_0_10.jpg\"\u001b[0m\u001b[1;33m\u001b[0m\u001b[1;33m\u001b[0m\u001b[0m\n\u001b[1;32m----> 2\u001b[1;33m \u001b[0mimg\u001b[0m \u001b[1;33m=\u001b[0m \u001b[0mcv2\u001b[0m\u001b[1;33m.\u001b[0m\u001b[0mimread\u001b[0m\u001b[1;33m(\u001b[0m\u001b[1;33m(\u001b[0m\u001b[1;34mf'image_entropy_method/'\u001b[0m\u001b[1;33m,\u001b[0m\u001b[0mpath\u001b[0m\u001b[1;33m)\u001b[0m\u001b[1;33m,\u001b[0m \u001b[0mcv2\u001b[0m\u001b[1;33m.\u001b[0m\u001b[0mIMREAD_GRAYSCALE\u001b[0m\u001b[1;33m)\u001b[0m\u001b[1;33m\u001b[0m\u001b[1;33m\u001b[0m\u001b[0m\n\u001b[0m\u001b[0;32m      3\u001b[0m \u001b[0mprint\u001b[0m\u001b[1;33m(\u001b[0m\u001b[0mEntropy_Percentage\u001b[0m\u001b[1;33m(\u001b[0m\u001b[0mimg\u001b[0m\u001b[1;33m)\u001b[0m\u001b[1;33m)\u001b[0m\u001b[1;33m\u001b[0m\u001b[1;33m\u001b[0m\u001b[0m\n",
      "\u001b[1;31mTypeError\u001b[0m: Can't convert object to 'str' for 'filename'"
     ]
    }
   ],
   "source": [
    "path = \"21_no_back_blur_0_10.jpg\"\n",
    "img = cv2.imread((f'image_entropy_method/',path), cv2.IMREAD_GRAYSCALE)\n",
    "print(Entropy_Percentage(img))"
   ]
  },
  {
   "cell_type": "code",
   "execution_count": 23,
   "id": "b48488f9",
   "metadata": {},
   "outputs": [
    {
     "name": "stdout",
     "output_type": "stream",
     "text": [
      "Percentage of blur: 54.46666260456517\n"
     ]
    }
   ],
   "source": [
    "img = cv2.imread('image_entropy_method/21_no_back_blur_0_10.jpg', cv2.IMREAD_GRAYSCALE)\n",
    "\n",
    "# Compute the image histogram\n",
    "hist, _ = np.histogram(img, bins=np.arange(256))\n",
    "\n",
    "# Compute the probability mass function\n",
    "pmf = hist / np.sum(hist)\n",
    "\n",
    "# Compute the entropy of the image\n",
    "entropy = -np.sum(pmf * np.log2(pmf + 1e-10))\n",
    "\n",
    "# Compute the percentage of blur\n",
    "blur_pct = 100 * entropy / np.log2(256)\n",
    "\n",
    "print('Percentage of blur:', blur_pct)"
   ]
  },
  {
   "cell_type": "markdown",
   "id": "865c1612",
   "metadata": {},
   "source": [
    "Fourier Transform Method\n"
   ]
  },
  {
   "cell_type": "code",
   "execution_count": 13,
   "id": "53e05f2d",
   "metadata": {},
   "outputs": [
    {
     "name": "stdout",
     "output_type": "stream",
     "text": [
      "Image is not blurry\n"
     ]
    }
   ],
   "source": [
    "# Load the image as grayscale\n",
    "img = cv2.imread('img03_ex_blur.jpg', cv2.IMREAD_GRAYSCALE)\n",
    "\n",
    "# Compute the 2D Fourier transform of the image\n",
    "f = np.fft.fft2(img)\n",
    "\n",
    "# Shift the zero-frequency component to the center of the spectrum\n",
    "fshift = np.fft.fftshift(f)\n",
    "\n",
    "# Compute the magnitude spectrum of the Fourier transform\n",
    "magnitude_spectrum = 20 * np.log(np.abs(fshift))\n",
    "\n",
    "# Compute the high-frequency energy\n",
    "high_freq_energy = np.sum(magnitude_spectrum[10:-10, 10:-10])\n",
    "\n",
    "# Define a threshold for blur detection\n",
    "threshold = 1000\n",
    "\n",
    "# Check if the high-frequency energy is above the threshold\n",
    "if high_freq_energy > threshold:\n",
    "    print('Image is not blurry')\n",
    "else:\n",
    "    print('Image is blurry')"
   ]
  },
  {
   "cell_type": "markdown",
   "id": "56651cc2",
   "metadata": {},
   "source": [
    "Fourier Transform Method percentage"
   ]
  },
  {
   "cell_type": "code",
   "execution_count": 14,
   "id": "7755126b",
   "metadata": {},
   "outputs": [
    {
     "name": "stdout",
     "output_type": "stream",
     "text": [
      "Blur score: 0 %\n"
     ]
    }
   ],
   "source": [
    "img = cv2.imread('img03_ex_blur.jpg', cv2.IMREAD_GRAYSCALE)\n",
    "\n",
    "# Compute the 2D Fourier transform of the image\n",
    "f = np.fft.fft2(img)\n",
    "\n",
    "# Shift the zero-frequency component to the center of the spectrum\n",
    "fshift = np.fft.fftshift(f)\n",
    "\n",
    "# Compute the magnitude spectrum of the Fourier transform\n",
    "magnitude_spectrum = 20 * np.log(np.abs(fshift))\n",
    "\n",
    "# Compute the high-frequency energy\n",
    "high_freq_energy = np.sum(magnitude_spectrum[10:-10, 10:-10])\n",
    "\n",
    "# Compute the total energy\n",
    "total_energy = np.sum(magnitude_spectrum)\n",
    "\n",
    "# Compute the blur score\n",
    "blur_score = 1 - (high_freq_energy / total_energy)\n",
    "\n",
    "# Print the blur score as a percentage\n",
    "print('Blur score:', int(blur_score * 100), '%')"
   ]
  },
  {
   "cell_type": "code",
   "execution_count": null,
   "id": "4485110e",
   "metadata": {},
   "outputs": [],
   "source": []
  },
  {
   "cell_type": "code",
   "execution_count": null,
   "id": "5a3e6912",
   "metadata": {},
   "outputs": [],
   "source": []
  }
 ],
 "metadata": {
  "kernelspec": {
   "display_name": "Python 3 (ipykernel)",
   "language": "python",
   "name": "python3"
  },
  "language_info": {
   "codemirror_mode": {
    "name": "ipython",
    "version": 3
   },
   "file_extension": ".py",
   "mimetype": "text/x-python",
   "name": "python",
   "nbconvert_exporter": "python",
   "pygments_lexer": "ipython3",
   "version": "3.9.13"
  }
 },
 "nbformat": 4,
 "nbformat_minor": 5
}

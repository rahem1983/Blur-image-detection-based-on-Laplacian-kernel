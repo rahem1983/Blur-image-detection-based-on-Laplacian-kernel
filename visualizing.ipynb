{
 "cells": [
  {
   "cell_type": "code",
   "execution_count": 1,
   "id": "bd2920c8",
   "metadata": {},
   "outputs": [],
   "source": [
    "import torch\n",
    "import cv2\n",
    "import numpy as np"
   ]
  },
  {
   "cell_type": "code",
   "execution_count": 2,
   "id": "0c0d9fdd",
   "metadata": {},
   "outputs": [],
   "source": [
    "img01 = cv2.imread('img01.jpg', cv2.IMREAD_COLOR)\n",
    "img02 = cv2.imread('img02.jpg', cv2.IMREAD_GRAYSCALE)\n",
    "img03 = cv2.imread('img03.jpg', cv2.IMREAD_UNCHANGED)"
   ]
  },
  {
   "cell_type": "code",
   "execution_count": 3,
   "id": "1fb0ba9b",
   "metadata": {},
   "outputs": [],
   "source": [
    "img01 = cv2.resize(img03, [250,250])"
   ]
  },
  {
   "cell_type": "code",
   "execution_count": 4,
   "id": "433e2a74",
   "metadata": {},
   "outputs": [],
   "source": [
    "cv2.imshow(\"img01\", img01)\n",
    "cv2.waitKey(0)\n",
    "cv2.destroyAllWindows()"
   ]
  },
  {
   "cell_type": "code",
   "execution_count": 5,
   "id": "89f9a78e",
   "metadata": {},
   "outputs": [],
   "source": [
    "img = cv2.imread('img03_blur.jpg', cv2.IMREAD_GRAYSCALE)"
   ]
  },
  {
   "cell_type": "code",
   "execution_count": 6,
   "id": "ed9266e1",
   "metadata": {},
   "outputs": [],
   "source": [
    "img = cv2.resize(img, [750,450])\n",
    "img_lap = cv2.Laplacian(img, cv2.CV_64F)\n"
   ]
  },
  {
   "cell_type": "code",
   "execution_count": 7,
   "id": "276f9407",
   "metadata": {},
   "outputs": [],
   "source": [
    "cv2.imshow(\"img01\", img_lap)\n",
    "cv2.waitKey(0)\n",
    "cv2.destroyAllWindows()"
   ]
  },
  {
   "cell_type": "code",
   "execution_count": 8,
   "id": "5cd58ce0",
   "metadata": {},
   "outputs": [],
   "source": [
    "blur_pct = 100 * (1 - img_lap.var() / 500)"
   ]
  },
  {
   "cell_type": "code",
   "execution_count": 9,
   "id": "88f5efcc",
   "metadata": {},
   "outputs": [
    {
     "name": "stdout",
     "output_type": "stream",
     "text": [
      "98.57198764053773\n"
     ]
    }
   ],
   "source": [
    "print(blur_pct)"
   ]
  },
  {
   "cell_type": "code",
   "execution_count": 10,
   "id": "eb1327c6",
   "metadata": {},
   "outputs": [
    {
     "name": "stdout",
     "output_type": "stream",
     "text": [
      "7.140061797311384\n"
     ]
    }
   ],
   "source": [
    "print(img_lap.var())"
   ]
  },
  {
   "cell_type": "markdown",
   "id": "4fc0c551",
   "metadata": {},
   "source": [
    "Image Gradient Method"
   ]
  },
  {
   "cell_type": "code",
   "execution_count": 11,
   "id": "2725f3ef",
   "metadata": {},
   "outputs": [
    {
     "name": "stdout",
     "output_type": "stream",
     "text": [
      "Percentage of blur: 98.41911426228037\n"
     ]
    }
   ],
   "source": [
    "\n",
    "# Load the image as grayscale\n",
    "img = cv2.imread('img03_blur.jpg', cv2.IMREAD_GRAYSCALE)\n",
    "\n",
    "# Compute the x and y gradients using Sobel filters\n",
    "grad_x = cv2.Sobel(img, cv2.CV_64F, 1, 0, ksize=3)\n",
    "grad_y = cv2.Sobel(img, cv2.CV_64F, 0, 1, ksize=3)\n",
    "\n",
    "# Compute the gradient magnitude and mean\n",
    "grad_mag = np.sqrt(grad_x**2 + grad_y**2)\n",
    "grad_mean = np.mean(grad_mag)\n",
    "\n",
    "# Compute the percentage of blur\n",
    "blur_pct = 100 * (1 - grad_mean / 255)\n",
    "\n",
    "print('Percentage of blur:', blur_pct)\n"
   ]
  },
  {
   "cell_type": "markdown",
   "id": "b0e474c7",
   "metadata": {},
   "source": [
    "Image Entropy Method"
   ]
  },
  {
   "cell_type": "code",
   "execution_count": 12,
   "id": "758b1ebc",
   "metadata": {},
   "outputs": [
    {
     "name": "stdout",
     "output_type": "stream",
     "text": [
      "Percentage of blur: 93.46199328157503\n"
     ]
    }
   ],
   "source": [
    "img = cv2.imread('img03_blur.jpg', cv2.IMREAD_GRAYSCALE)\n",
    "\n",
    "# Compute the image histogram\n",
    "hist, _ = np.histogram(img, bins=np.arange(256))\n",
    "\n",
    "# Compute the probability mass function\n",
    "pmf = hist / np.sum(hist)\n",
    "\n",
    "# Compute the entropy of the image\n",
    "entropy = -np.sum(pmf * np.log2(pmf + 1e-10))\n",
    "\n",
    "# Compute the percentage of blur\n",
    "blur_pct = 100 * entropy / np.log2(256)\n",
    "\n",
    "print('Percentage of blur:', blur_pct)"
   ]
  },
  {
   "cell_type": "code",
   "execution_count": null,
   "id": "f9592183",
   "metadata": {},
   "outputs": [],
   "source": []
  },
  {
   "cell_type": "code",
   "execution_count": null,
   "id": "2de2eb92",
   "metadata": {},
   "outputs": [],
   "source": []
  },
  {
   "cell_type": "code",
   "execution_count": null,
   "id": "99a83f61",
   "metadata": {},
   "outputs": [],
   "source": []
  }
 ],
 "metadata": {
  "kernelspec": {
   "display_name": "Python 3 (ipykernel)",
   "language": "python",
   "name": "python3"
  },
  "language_info": {
   "codemirror_mode": {
    "name": "ipython",
    "version": 3
   },
   "file_extension": ".py",
   "mimetype": "text/x-python",
   "name": "python",
   "nbconvert_exporter": "python",
   "pygments_lexer": "ipython3",
   "version": "3.9.13"
  }
 },
 "nbformat": 4,
 "nbformat_minor": 5
}

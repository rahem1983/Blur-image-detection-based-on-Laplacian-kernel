{
 "cells": [
  {
   "cell_type": "code",
   "execution_count": 1,
   "id": "bdfa293e",
   "metadata": {},
   "outputs": [],
   "source": [
    "import torch\n",
    "import cv2\n",
    "import numpy as np"
   ]
  },
  {
   "cell_type": "code",
   "execution_count": 2,
   "id": "77d39b5a",
   "metadata": {},
   "outputs": [],
   "source": [
    "# img01 = cv2.imread('img01.jpg', cv2.IMREAD_COLOR)\n",
    "# img02 = cv2.imread('img02.jpg', cv2.IMREAD_GRAYSCALE)\n",
    "# img03 = cv2.imread('img03.jpg', cv2.IMREAD_UNCHANGED)"
   ]
  },
  {
   "cell_type": "code",
   "execution_count": 3,
   "id": "47e2c8d1",
   "metadata": {},
   "outputs": [],
   "source": [
    "# img01 = cv2.resize(img03, [250,250])"
   ]
  },
  {
   "cell_type": "code",
   "execution_count": 4,
   "id": "3021a584",
   "metadata": {},
   "outputs": [],
   "source": [
    "# cv2.imshow(\"img01\", img01)\n",
    "# cv2.waitKey(0)\n",
    "# cv2.destroyAllWindows()"
   ]
  },
  {
   "cell_type": "code",
   "execution_count": 41,
   "id": "512cd4c4",
   "metadata": {},
   "outputs": [],
   "source": [
    "img = cv2.imread('img03_ex_blur.jpg', cv2.IMREAD_GRAYSCALE)"
   ]
  },
  {
   "cell_type": "code",
   "execution_count": 42,
   "id": "b8a39d88",
   "metadata": {},
   "outputs": [],
   "source": [
    "img = cv2.resize(img, [750,450])\n",
    "img_lap = cv2.Laplacian(img, cv2.CV_64F)\n"
   ]
  },
  {
   "cell_type": "code",
   "execution_count": 43,
   "id": "2c6068aa",
   "metadata": {},
   "outputs": [],
   "source": [
    "cv2.imshow(\"img01\", img_lap)\n",
    "cv2.waitKey(0)\n",
    "cv2.destroyAllWindows()"
   ]
  },
  {
   "cell_type": "code",
   "execution_count": 44,
   "id": "9918df0f",
   "metadata": {},
   "outputs": [],
   "source": [
    "blur_pct = 100 * (1 - img_lap.var() / 500)"
   ]
  },
  {
   "cell_type": "code",
   "execution_count": 45,
   "id": "6ed8aa1d",
   "metadata": {},
   "outputs": [
    {
     "name": "stdout",
     "output_type": "stream",
     "text": [
      "99.54729215437432\n"
     ]
    }
   ],
   "source": [
    "print(blur_pct)"
   ]
  },
  {
   "cell_type": "code",
   "execution_count": 33,
   "id": "ac074f9d",
   "metadata": {},
   "outputs": [
    {
     "name": "stdout",
     "output_type": "stream",
     "text": [
      "3442.30976\n"
     ]
    }
   ],
   "source": [
    "print(img_lap.var())"
   ]
  },
  {
   "cell_type": "markdown",
   "id": "ae887367",
   "metadata": {},
   "source": [
    "Image Gradient Method"
   ]
  },
  {
   "cell_type": "code",
   "execution_count": 40,
   "id": "6bf9baad",
   "metadata": {},
   "outputs": [
    {
     "name": "stdout",
     "output_type": "stream",
     "text": [
      "Percentage of blur: 99.61216734200346\n"
     ]
    }
   ],
   "source": [
    "\n",
    "# Load the image as grayscale\n",
    "img = cv2.imread('img03_ex_blur.jpg', cv2.IMREAD_GRAYSCALE)\n",
    "\n",
    "# Compute the x and y gradients using Sobel filters\n",
    "grad_x = cv2.Sobel(img, cv2.CV_64F, 1, 0, ksize=3)\n",
    "grad_y = cv2.Sobel(img, cv2.CV_64F, 0, 1, ksize=3)\n",
    "\n",
    "# Compute the gradient magnitude and mean\n",
    "grad_mag = np.sqrt(grad_x**2 + grad_y**2)\n",
    "grad_mean = np.mean(grad_mag)\n",
    "\n",
    "# Compute the percentage of blur\n",
    "blur_pct = 100 * (1 - grad_mean / 255)\n",
    "\n",
    "print('Percentage of blur:', blur_pct)\n"
   ]
  },
  {
   "cell_type": "markdown",
   "id": "b13845cc",
   "metadata": {},
   "source": [
    "Image Entropy Method"
   ]
  },
  {
   "cell_type": "code",
   "execution_count": 39,
   "id": "d40413c8",
   "metadata": {},
   "outputs": [
    {
     "name": "stdout",
     "output_type": "stream",
     "text": [
      "Percentage of blur: 86.9014799162701\n"
     ]
    }
   ],
   "source": [
    "img = cv2.imread('img03_ex_blur.jpg', cv2.IMREAD_GRAYSCALE)\n",
    "\n",
    "# Compute the image histogram\n",
    "hist, _ = np.histogram(img, bins=np.arange(256))\n",
    "\n",
    "# Compute the probability mass function\n",
    "pmf = hist / np.sum(hist)\n",
    "\n",
    "# Compute the entropy of the image\n",
    "entropy = -np.sum(pmf * np.log2(pmf + 1e-10))\n",
    "\n",
    "# Compute the percentage of blur\n",
    "blur_pct = 100 * entropy / np.log2(256)\n",
    "\n",
    "print('Percentage of blur:', blur_pct)"
   ]
  },
  {
   "cell_type": "markdown",
   "id": "03685d97",
   "metadata": {},
   "source": [
    "Fourier Transform Method\n"
   ]
  },
  {
   "cell_type": "code",
   "execution_count": 37,
   "id": "c9fc82af",
   "metadata": {},
   "outputs": [
    {
     "name": "stdout",
     "output_type": "stream",
     "text": [
      "Image is not blurry\n"
     ]
    }
   ],
   "source": [
    "# Load the image as grayscale\n",
    "img = cv2.imread('img03_ex_blur.jpg', cv2.IMREAD_GRAYSCALE)\n",
    "\n",
    "# Compute the 2D Fourier transform of the image\n",
    "f = np.fft.fft2(img)\n",
    "\n",
    "# Shift the zero-frequency component to the center of the spectrum\n",
    "fshift = np.fft.fftshift(f)\n",
    "\n",
    "# Compute the magnitude spectrum of the Fourier transform\n",
    "magnitude_spectrum = 20 * np.log(np.abs(fshift))\n",
    "\n",
    "# Compute the high-frequency energy\n",
    "high_freq_energy = np.sum(magnitude_spectrum[10:-10, 10:-10])\n",
    "\n",
    "# Define a threshold for blur detection\n",
    "threshold = 1000\n",
    "\n",
    "# Check if the high-frequency energy is above the threshold\n",
    "if high_freq_energy > threshold:\n",
    "    print('Image is not blurry')\n",
    "else:\n",
    "    print('Image is blurry')"
   ]
  },
  {
   "cell_type": "markdown",
   "id": "f19f3c53",
   "metadata": {},
   "source": [
    "Fourier Transform Method percentage"
   ]
  },
  {
   "cell_type": "code",
   "execution_count": 38,
   "id": "13aca3d7",
   "metadata": {},
   "outputs": [
    {
     "name": "stdout",
     "output_type": "stream",
     "text": [
      "Blur score: 0 %\n"
     ]
    }
   ],
   "source": [
    "img = cv2.imread('img03_ex_blur.jpg', cv2.IMREAD_GRAYSCALE)\n",
    "\n",
    "# Compute the 2D Fourier transform of the image\n",
    "f = np.fft.fft2(img)\n",
    "\n",
    "# Shift the zero-frequency component to the center of the spectrum\n",
    "fshift = np.fft.fftshift(f)\n",
    "\n",
    "# Compute the magnitude spectrum of the Fourier transform\n",
    "magnitude_spectrum = 20 * np.log(np.abs(fshift))\n",
    "\n",
    "# Compute the high-frequency energy\n",
    "high_freq_energy = np.sum(magnitude_spectrum[10:-10, 10:-10])\n",
    "\n",
    "# Compute the total energy\n",
    "total_energy = np.sum(magnitude_spectrum)\n",
    "\n",
    "# Compute the blur score\n",
    "blur_score = 1 - (high_freq_energy / total_energy)\n",
    "\n",
    "# Print the blur score as a percentage\n",
    "print('Blur score:', int(blur_score * 100), '%')"
   ]
  },
  {
   "cell_type": "code",
   "execution_count": 50,
   "id": "38bb25ca",
   "metadata": {},
   "outputs": [
    {
     "name": "stdout",
     "output_type": "stream",
     "text": [
      "name = a and id = 1\n",
      "name = b and id = 2\n",
      "name = c and id = 3\n"
     ]
    }
   ],
   "source": []
  },
  {
   "cell_type": "code",
   "execution_count": null,
   "id": "70c9821b",
   "metadata": {},
   "outputs": [],
   "source": []
  }
 ],
 "metadata": {
  "kernelspec": {
   "display_name": "Python 3 (ipykernel)",
   "language": "python",
   "name": "python3"
  },
  "language_info": {
   "codemirror_mode": {
    "name": "ipython",
    "version": 3
   },
   "file_extension": ".py",
   "mimetype": "text/x-python",
   "name": "python",
   "nbconvert_exporter": "python",
   "pygments_lexer": "ipython3",
   "version": "3.9.13"
  }
 },
 "nbformat": 4,
 "nbformat_minor": 5
}

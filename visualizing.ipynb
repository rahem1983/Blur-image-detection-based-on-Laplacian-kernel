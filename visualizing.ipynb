{
 "cells": [
  {
   "cell_type": "code",
   "execution_count": 12,
   "id": "6afcfded",
   "metadata": {},
   "outputs": [],
   "source": [
    "import torch\n",
    "import cv2\n",
    "import numpy as np"
   ]
  },
  {
   "cell_type": "code",
   "execution_count": 13,
   "id": "a36256b5",
   "metadata": {},
   "outputs": [],
   "source": [
    "img01 = cv2.imread('img01.jpg', cv2.IMREAD_COLOR)\n",
    "img02 = cv2.imread('img02.jpg', cv2.IMREAD_GRAYSCALE)\n",
    "img03 = cv2.imread('img03.jpg', cv2.IMREAD_UNCHANGED)"
   ]
  },
  {
   "cell_type": "code",
   "execution_count": 14,
   "id": "98cd8f2b",
   "metadata": {},
   "outputs": [],
   "source": [
    "img01 = cv2.resize(img03, [250,250])"
   ]
  },
  {
   "cell_type": "code",
   "execution_count": 15,
   "id": "112acf6f",
   "metadata": {},
   "outputs": [],
   "source": [
    "cv2.imshow(\"img01\", img01)\n",
    "cv2.waitKey(0)\n",
    "cv2.destroyAllWindows()"
   ]
  },
  {
   "cell_type": "code",
   "execution_count": 46,
   "id": "1a8281f9",
   "metadata": {},
   "outputs": [],
   "source": [
    "img = cv2.imread('Blur/21_blured.jpg', cv2.IMREAD_GRAYSCALE)"
   ]
  },
  {
   "cell_type": "code",
   "execution_count": 47,
   "id": "6904a71a",
   "metadata": {},
   "outputs": [],
   "source": [
    "# img = cv2.resize(img, [250,250])\n",
    "img_lap = cv2.Laplacian(img, cv2.CV_64F)\n"
   ]
  },
  {
   "cell_type": "code",
   "execution_count": 48,
   "id": "c903aa29",
   "metadata": {},
   "outputs": [],
   "source": [
    "cv2.imshow(\"img01\", img_lap)\n",
    "cv2.waitKey(0)\n",
    "cv2.destroyAllWindows()"
   ]
  },
  {
   "cell_type": "code",
   "execution_count": 49,
   "id": "c398ee76",
   "metadata": {},
   "outputs": [],
   "source": [
    "blur_pct = 100 * (1 - img_lap.var() / 500)"
   ]
  },
  {
   "cell_type": "code",
   "execution_count": 50,
   "id": "c089c6ee",
   "metadata": {},
   "outputs": [
    {
     "name": "stdout",
     "output_type": "stream",
     "text": [
      "96.97649925252279\n"
     ]
    }
   ],
   "source": [
    "print(blur_pct)"
   ]
  },
  {
   "cell_type": "code",
   "execution_count": 51,
   "id": "a7eaa7fe",
   "metadata": {},
   "outputs": [
    {
     "name": "stdout",
     "output_type": "stream",
     "text": [
      "15.117503737386068\n"
     ]
    }
   ],
   "source": [
    "print(img_lap.var())"
   ]
  },
  {
   "cell_type": "markdown",
   "id": "481c7909",
   "metadata": {},
   "source": [
    "Image Gradient Method"
   ]
  },
  {
   "cell_type": "code",
   "execution_count": 52,
   "id": "e9f1d3b1",
   "metadata": {},
   "outputs": [
    {
     "name": "stdout",
     "output_type": "stream",
     "text": [
      "Percentage of blur: 86.76030221616521\n"
     ]
    }
   ],
   "source": [
    "\n",
    "# Load the image as grayscale\n",
    "img = cv2.imread('Blur/21_blured.jpg', cv2.IMREAD_GRAYSCALE)\n",
    "\n",
    "# Compute the x and y gradients using Sobel filters\n",
    "grad_x = cv2.Sobel(img, cv2.CV_64F, 1, 0, ksize=3)\n",
    "grad_y = cv2.Sobel(img, cv2.CV_64F, 0, 1, ksize=3)\n",
    "\n",
    "# Compute the gradient magnitude and mean\n",
    "grad_mag = np.sqrt(grad_x**2 + grad_y**2)\n",
    "grad_mean = np.mean(grad_mag)\n",
    "\n",
    "# Compute the percentage of blur\n",
    "blur_pct = 100 * (1 - grad_mean / 255)\n",
    "\n",
    "print('Percentage of blur:', blur_pct)\n"
   ]
  },
  {
   "cell_type": "markdown",
   "id": "c38cc4dd",
   "metadata": {},
   "source": [
    "Image Entropy Method"
   ]
  },
  {
   "cell_type": "code",
   "execution_count": 54,
   "id": "cdea56fb",
   "metadata": {},
   "outputs": [
    {
     "name": "stdout",
     "output_type": "stream",
     "text": [
      "Percentage of blur: 95.88845997207966\n"
     ]
    }
   ],
   "source": [
    "img = cv2.imread('Blur/21_blured.jpg', cv2.IMREAD_GRAYSCALE)\n",
    "\n",
    "# Compute the image histogram\n",
    "hist, _ = np.histogram(img, bins=np.arange(256))\n",
    "\n",
    "# Compute the probability mass function\n",
    "pmf = hist / np.sum(hist)\n",
    "\n",
    "# Compute the entropy of the image\n",
    "entropy = -np.sum(pmf * np.log2(pmf + 1e-10))\n",
    "\n",
    "# Compute the percentage of blur\n",
    "blur_pct = 100 * entropy / np.log2(256)\n",
    "\n",
    "print('Percentage of blur:', blur_pct)"
   ]
  },
  {
   "cell_type": "code",
   "execution_count": null,
   "id": "8d370587",
   "metadata": {},
   "outputs": [],
   "source": []
  }
 ],
 "metadata": {
  "kernelspec": {
   "display_name": "Python 3 (ipykernel)",
   "language": "python",
   "name": "python3"
  },
  "language_info": {
   "codemirror_mode": {
    "name": "ipython",
    "version": 3
   },
   "file_extension": ".py",
   "mimetype": "text/x-python",
   "name": "python",
   "nbconvert_exporter": "python",
   "pygments_lexer": "ipython3",
   "version": "3.9.13"
  }
 },
 "nbformat": 4,
 "nbformat_minor": 5
}

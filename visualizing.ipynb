{
 "cells": [
  {
   "cell_type": "code",
   "execution_count": 1,
   "id": "03351e87",
   "metadata": {},
   "outputs": [],
   "source": [
    "import torch\n",
    "import cv2\n",
    "import numpy as np"
   ]
  },
  {
   "cell_type": "code",
   "execution_count": 2,
   "id": "1351d1a4",
   "metadata": {},
   "outputs": [],
   "source": [
    "img01 = cv2.imread('img01.jpg', cv2.IMREAD_COLOR)\n",
    "img02 = cv2.imread('img02.jpg', cv2.IMREAD_GRAYSCALE)\n",
    "img03 = cv2.imread('img03.jpg', cv2.IMREAD_UNCHANGED)"
   ]
  },
  {
   "cell_type": "code",
   "execution_count": 3,
   "id": "675b66c7",
   "metadata": {},
   "outputs": [],
   "source": [
    "img01 = cv2.resize(img03, [250,250])"
   ]
  },
  {
   "cell_type": "code",
   "execution_count": 4,
   "id": "a91ba2c9",
   "metadata": {},
   "outputs": [],
   "source": [
    "cv2.imshow(\"img01\", img01)\n",
    "cv2.waitKey(0)\n",
    "cv2.destroyAllWindows()"
   ]
  },
  {
   "cell_type": "code",
   "execution_count": 13,
   "id": "1b4192de",
   "metadata": {},
   "outputs": [],
   "source": [
    "img = cv2.imread('img03_blur01.jpg', cv2.IMREAD_GRAYSCALE)"
   ]
  },
  {
   "cell_type": "code",
   "execution_count": 14,
   "id": "07402899",
   "metadata": {},
   "outputs": [],
   "source": [
    "img = cv2.resize(img, [750,450])\n",
    "img_lap = cv2.Laplacian(img, cv2.CV_64F)\n"
   ]
  },
  {
   "cell_type": "code",
   "execution_count": 15,
   "id": "7731fa63",
   "metadata": {},
   "outputs": [],
   "source": [
    "cv2.imshow(\"img01\", img_lap)\n",
    "cv2.waitKey(0)\n",
    "cv2.destroyAllWindows()"
   ]
  },
  {
   "cell_type": "code",
   "execution_count": 16,
   "id": "7016f62c",
   "metadata": {},
   "outputs": [],
   "source": [
    "blur_pct = 100 * (1 - img_lap.var() / 500)"
   ]
  },
  {
   "cell_type": "code",
   "execution_count": 17,
   "id": "78178ea4",
   "metadata": {},
   "outputs": [
    {
     "name": "stdout",
     "output_type": "stream",
     "text": [
      "99.1564894219606\n"
     ]
    }
   ],
   "source": [
    "print(blur_pct)"
   ]
  },
  {
   "cell_type": "code",
   "execution_count": 18,
   "id": "d71c5452",
   "metadata": {},
   "outputs": [
    {
     "name": "stdout",
     "output_type": "stream",
     "text": [
      "4.217552890196983\n"
     ]
    }
   ],
   "source": [
    "print(img_lap.var())"
   ]
  },
  {
   "cell_type": "markdown",
   "id": "087db7ee",
   "metadata": {},
   "source": [
    "Image Gradient Method"
   ]
  },
  {
   "cell_type": "code",
   "execution_count": 20,
   "id": "a9adc283",
   "metadata": {},
   "outputs": [
    {
     "name": "stdout",
     "output_type": "stream",
     "text": [
      "Percentage of blur: 98.70226535262557\n"
     ]
    }
   ],
   "source": [
    "\n",
    "# Load the image as grayscale\n",
    "img = cv2.imread('img03_blur01.jpg', cv2.IMREAD_GRAYSCALE)\n",
    "\n",
    "# Compute the x and y gradients using Sobel filters\n",
    "grad_x = cv2.Sobel(img, cv2.CV_64F, 1, 0, ksize=3)\n",
    "grad_y = cv2.Sobel(img, cv2.CV_64F, 0, 1, ksize=3)\n",
    "\n",
    "# Compute the gradient magnitude and mean\n",
    "grad_mag = np.sqrt(grad_x**2 + grad_y**2)\n",
    "grad_mean = np.mean(grad_mag)\n",
    "\n",
    "# Compute the percentage of blur\n",
    "blur_pct = 100 * (1 - grad_mean / 255)\n",
    "\n",
    "print('Percentage of blur:', blur_pct)\n"
   ]
  },
  {
   "cell_type": "markdown",
   "id": "6ff1499f",
   "metadata": {},
   "source": [
    "Image Entropy Method"
   ]
  },
  {
   "cell_type": "code",
   "execution_count": 21,
   "id": "0ae19019",
   "metadata": {},
   "outputs": [
    {
     "name": "stdout",
     "output_type": "stream",
     "text": [
      "Percentage of blur: 93.4779796226157\n"
     ]
    }
   ],
   "source": [
    "img = cv2.imread('img03_blur01.jpg', cv2.IMREAD_GRAYSCALE)\n",
    "\n",
    "# Compute the image histogram\n",
    "hist, _ = np.histogram(img, bins=np.arange(256))\n",
    "\n",
    "# Compute the probability mass function\n",
    "pmf = hist / np.sum(hist)\n",
    "\n",
    "# Compute the entropy of the image\n",
    "entropy = -np.sum(pmf * np.log2(pmf + 1e-10))\n",
    "\n",
    "# Compute the percentage of blur\n",
    "blur_pct = 100 * entropy / np.log2(256)\n",
    "\n",
    "print('Percentage of blur:', blur_pct)"
   ]
  },
  {
   "cell_type": "markdown",
   "id": "488e2716",
   "metadata": {},
   "source": [
    "Fourier Transform Method\n"
   ]
  },
  {
   "cell_type": "code",
   "execution_count": 22,
   "id": "1e3b3f92",
   "metadata": {},
   "outputs": [
    {
     "name": "stdout",
     "output_type": "stream",
     "text": [
      "Image is not blurry\n"
     ]
    }
   ],
   "source": [
    "# Load the image as grayscale\n",
    "img = cv2.imread('img03_blur01.jpg', cv2.IMREAD_GRAYSCALE)\n",
    "\n",
    "# Compute the 2D Fourier transform of the image\n",
    "f = np.fft.fft2(img)\n",
    "\n",
    "# Shift the zero-frequency component to the center of the spectrum\n",
    "fshift = np.fft.fftshift(f)\n",
    "\n",
    "# Compute the magnitude spectrum of the Fourier transform\n",
    "magnitude_spectrum = 20 * np.log(np.abs(fshift))\n",
    "\n",
    "# Compute the high-frequency energy\n",
    "high_freq_energy = np.sum(magnitude_spectrum[10:-10, 10:-10])\n",
    "\n",
    "# Define a threshold for blur detection\n",
    "threshold = 1000\n",
    "\n",
    "# Check if the high-frequency energy is above the threshold\n",
    "if high_freq_energy > threshold:\n",
    "    print('Image is not blurry')\n",
    "else:\n",
    "    print('Image is blurry')"
   ]
  },
  {
   "cell_type": "markdown",
   "id": "edd58b76",
   "metadata": {},
   "source": [
    "Fourier Transform Method percentage"
   ]
  },
  {
   "cell_type": "code",
   "execution_count": 26,
   "id": "b8f385af",
   "metadata": {},
   "outputs": [
    {
     "name": "stdout",
     "output_type": "stream",
     "text": [
      "Blur score: 0 %\n"
     ]
    }
   ],
   "source": [
    "img = cv2.imread('img03.jpg', cv2.IMREAD_GRAYSCALE)\n",
    "\n",
    "# Compute the 2D Fourier transform of the image\n",
    "f = np.fft.fft2(img)\n",
    "\n",
    "# Shift the zero-frequency component to the center of the spectrum\n",
    "fshift = np.fft.fftshift(f)\n",
    "\n",
    "# Compute the magnitude spectrum of the Fourier transform\n",
    "magnitude_spectrum = 20 * np.log(np.abs(fshift))\n",
    "\n",
    "# Compute the high-frequency energy\n",
    "high_freq_energy = np.sum(magnitude_spectrum[10:-10, 10:-10])\n",
    "\n",
    "# Compute the total energy\n",
    "total_energy = np.sum(magnitude_spectrum)\n",
    "\n",
    "# Compute the blur score\n",
    "blur_score = 1 - (high_freq_energy / total_energy)\n",
    "\n",
    "# Print the blur score as a percentage\n",
    "print('Blur score:', int(blur_score * 100), '%')"
   ]
  },
  {
   "cell_type": "code",
   "execution_count": null,
   "id": "364c4882",
   "metadata": {},
   "outputs": [],
   "source": []
  }
 ],
 "metadata": {
  "kernelspec": {
   "display_name": "Python 3 (ipykernel)",
   "language": "python",
   "name": "python3"
  },
  "language_info": {
   "codemirror_mode": {
    "name": "ipython",
    "version": 3
   },
   "file_extension": ".py",
   "mimetype": "text/x-python",
   "name": "python",
   "nbconvert_exporter": "python",
   "pygments_lexer": "ipython3",
   "version": "3.9.13"
  }
 },
 "nbformat": 4,
 "nbformat_minor": 5
}

{
 "cells": [
  {
   "cell_type": "code",
   "execution_count": 1,
   "id": "045d081e",
   "metadata": {},
   "outputs": [],
   "source": [
    "import torch\n",
    "import cv2\n",
    "import numpy as np"
   ]
  },
  {
   "cell_type": "code",
   "execution_count": 2,
   "id": "ec4f528b",
   "metadata": {},
   "outputs": [],
   "source": [
    "# img01 = cv2.imread('img01.jpg', cv2.IMREAD_COLOR)\n",
    "# img02 = cv2.imread('img02.jpg', cv2.IMREAD_GRAYSCALE)\n",
    "# img03 = cv2.imread('img03.jpg', cv2.IMREAD_UNCHANGED)"
   ]
  },
  {
   "cell_type": "code",
   "execution_count": 3,
   "id": "13095025",
   "metadata": {},
   "outputs": [],
   "source": [
    "# img01 = cv2.resize(img03, [250,250])"
   ]
  },
  {
   "cell_type": "code",
   "execution_count": 4,
   "id": "8f92a2ba",
   "metadata": {},
   "outputs": [],
   "source": [
    "# cv2.imshow(\"img01\", img01)\n",
    "# cv2.waitKey(0)\n",
    "# cv2.destroyAllWindows()"
   ]
  },
  {
   "cell_type": "code",
   "execution_count": 71,
   "id": "790d9843",
   "metadata": {},
   "outputs": [],
   "source": [
    "img = cv2.imread('Blur/21_no_back_FaceOnly_blur_0_7.jpg', cv2.IMREAD_GRAYSCALE)"
   ]
  },
  {
   "cell_type": "code",
   "execution_count": 72,
   "id": "dc03e15b",
   "metadata": {},
   "outputs": [],
   "source": [
    "img = cv2.resize(img, [750,450])\n",
    "img_lap = cv2.Laplacian(img, cv2.CV_64F)\n"
   ]
  },
  {
   "cell_type": "code",
   "execution_count": 79,
   "id": "266cd87f",
   "metadata": {},
   "outputs": [],
   "source": [
    "cv2.imshow(\"img01\", img_lap)\n",
    "cv2.waitKey(0)\n",
    "cv2.destroyAllWindows()"
   ]
  },
  {
   "cell_type": "code",
   "execution_count": 74,
   "id": "19035ba7",
   "metadata": {},
   "outputs": [],
   "source": [
    "blur_pct = 100 * (1 - img_lap.var() / 500)"
   ]
  },
  {
   "cell_type": "code",
   "execution_count": 75,
   "id": "4a99ebfc",
   "metadata": {},
   "outputs": [
    {
     "name": "stdout",
     "output_type": "stream",
     "text": [
      "95.010272\n"
     ]
    }
   ],
   "source": [
    "print(blur_pct)"
   ]
  },
  {
   "cell_type": "code",
   "execution_count": 76,
   "id": "fc24868a",
   "metadata": {},
   "outputs": [
    {
     "name": "stdout",
     "output_type": "stream",
     "text": [
      "24.94864\n"
     ]
    }
   ],
   "source": [
    "print(img_lap.var())"
   ]
  },
  {
   "cell_type": "markdown",
   "id": "d5837f00",
   "metadata": {},
   "source": [
    "Image Gradient Method"
   ]
  },
  {
   "cell_type": "code",
   "execution_count": 39,
   "id": "0cc2a67a",
   "metadata": {},
   "outputs": [
    {
     "name": "stdout",
     "output_type": "stream",
     "text": [
      "Percentage of blur: 92.17948405020402\n"
     ]
    }
   ],
   "source": [
    "\n",
    "# Load the image as grayscale\n",
    "img = cv2.imread('Blur/15_FaceOnly.jpg', cv2.IMREAD_GRAYSCALE)\n",
    "\n",
    "# Compute the x and y gradients using Sobel filters\n",
    "grad_x = cv2.Sobel(img, cv2.CV_64F, 1, 0, ksize=3)\n",
    "grad_y = cv2.Sobel(img, cv2.CV_64F, 0, 1, ksize=3)\n",
    "\n",
    "# Compute the gradient magnitude and mean\n",
    "grad_mag = np.sqrt(grad_x**2 + grad_y**2)\n",
    "grad_mean = np.mean(grad_mag)\n",
    "\n",
    "# Compute the percentage of blur\n",
    "blur_pct = 100 * (1 - grad_mean / 255)\n",
    "\n",
    "print('Percentage of blur:', blur_pct)\n"
   ]
  },
  {
   "cell_type": "markdown",
   "id": "072f493f",
   "metadata": {},
   "source": [
    "Image Entropy Method"
   ]
  },
  {
   "cell_type": "code",
   "execution_count": 12,
   "id": "f391a533",
   "metadata": {},
   "outputs": [],
   "source": [
    "# def Entropy_Percentage( img ):\n",
    "#    # Compute the image histogram\n",
    "#     hist, _ = np.histogram(img, bins=np.arange(256))\n",
    "\n",
    "#     # Compute the probability mass function\n",
    "#     pmf = hist / np.sum(hist)\n",
    "\n",
    "#     # Compute the entropy of the image\n",
    "#     entropy = -np.sum(pmf * np.log2(pmf + 1e-10))\n",
    "\n",
    "#     # Compute the percentage of blur\n",
    "#     blur_pct = 100 * entropy / np.log2(256)\n",
    "\n",
    "#     return blur_pct"
   ]
  },
  {
   "cell_type": "code",
   "execution_count": 13,
   "id": "9d3e3c07",
   "metadata": {},
   "outputs": [],
   "source": [
    "# path = \"21_no_back_blur_0_10.jpg\"\n",
    "# img = cv2.imread((f'image_entropy_method/',path), cv2.IMREAD_GRAYSCALE)\n",
    "# print(Entropy_Percentage(img))"
   ]
  },
  {
   "cell_type": "code",
   "execution_count": 78,
   "id": "198f354e",
   "metadata": {},
   "outputs": [
    {
     "name": "stdout",
     "output_type": "stream",
     "text": [
      "Percentage of blur: 35.679830266402334\n"
     ]
    }
   ],
   "source": [
    "img = cv2.imread('Blur/21_no_back_FaceOnly_blur_0_10.jpg', cv2.IMREAD_GRAYSCALE)\n",
    "\n",
    "# Compute the image histogram\n",
    "hist, _ = np.histogram(img, bins=np.arange(256))\n",
    "\n",
    "# Compute the probability mass function\n",
    "pmf = hist / np.sum(hist)\n",
    "\n",
    "# Compute the entropy of the image\n",
    "entropy = -np.sum(pmf * np.log2(pmf + 1e-10))\n",
    "\n",
    "# Compute the percentage of blur\n",
    "blur_pct = 100 * entropy / np.log2(256)\n",
    "\n",
    "print('Percentage of blur:', blur_pct)"
   ]
  },
  {
   "cell_type": "code",
   "execution_count": 80,
   "id": "172df58e",
   "metadata": {},
   "outputs": [
    {
     "data": {
      "text/plain": [
       "array([    0,     0,     0,     0,     0,     0,     0,     0,     0,\n",
       "           0,     0,     0,     0,     0,     0,     0,     0,     0,\n",
       "           0,     0,     0,     0,     0,     0,     0,     0,     0,\n",
       "           0,     0,     0,     0,     0,     0,     0,     1,     0,\n",
       "           3,    10,    28,    53,    74,   130,   105,   113,    94,\n",
       "         111,    95,   118,   115,   121,   109,   125,   143,   146,\n",
       "         168,   182,   195,   252,   244,   220,   225,   277,   248,\n",
       "         274,   263,   264,   249,   287,   283,   246,   245,   228,\n",
       "         268,   224,   239,   220,   240,   273,   209,   188,   206,\n",
       "         196,   184,   186,   171,   188,   175,   169,   143,   114,\n",
       "         141,   152,   130,   131,   143,   149,   134,   122,   138,\n",
       "         135,   146,   136,   130,   125,   119,   123,   114,   154,\n",
       "         144,   155,   179,   150,   168,   176,   150,   155,   129,\n",
       "         127,   147,   107,   114,   141,   108,   115,   100,   112,\n",
       "         104,   100,   107,    99,    89,   103,   121,   113,   118,\n",
       "         119,   122,   129,   153,   142,   190,   169,   151,   166,\n",
       "         145,   133,   125,   169,   135,   129,   139,   133,   117,\n",
       "         101,    84,    98,    79,    77,    66,    68,    71,    66,\n",
       "          79,    75,    44,    45,    31,    29,    31,    16,    25,\n",
       "          24,    27,    20,    23,    17,    21,    33,    25,    28,\n",
       "          15,    18,    14,    20,    20,    18,    17,    16,    15,\n",
       "           9,    18,    17,    19,    20,    21,    11,    16,    15,\n",
       "          18,    12,    18,    12,    17,    14,    23,    18,    15,\n",
       "          15,    25,    23,    16,    11,    15,    21,    16,    16,\n",
       "          18,    13,    15,    17,    14,    19,    23,    16,    22,\n",
       "          16,    25,    18,    14,    22,    14,    20,    22,    14,\n",
       "          19,    10,     9,    19,    16,    39,    22,    23,    27,\n",
       "          28,    16,    27,    19,    27,    27,    26,    47,    58,\n",
       "         122,   283, 55651], dtype=int64)"
      ]
     },
     "execution_count": 80,
     "metadata": {},
     "output_type": "execute_result"
    }
   ],
   "source": [
    "hist"
   ]
  },
  {
   "cell_type": "markdown",
   "id": "12d7cf65",
   "metadata": {},
   "source": [
    "Fourier Transform Method\n"
   ]
  },
  {
   "cell_type": "code",
   "execution_count": 15,
   "id": "9ca063d9",
   "metadata": {},
   "outputs": [
    {
     "name": "stdout",
     "output_type": "stream",
     "text": [
      "Image is not blurry\n"
     ]
    }
   ],
   "source": [
    "# Load the image as grayscale\n",
    "img = cv2.imread('img03_ex_blur.jpg', cv2.IMREAD_GRAYSCALE)\n",
    "\n",
    "# Compute the 2D Fourier transform of the image\n",
    "f = np.fft.fft2(img)\n",
    "\n",
    "# Shift the zero-frequency component to the center of the spectrum\n",
    "fshift = np.fft.fftshift(f)\n",
    "\n",
    "# Compute the magnitude spectrum of the Fourier transform\n",
    "magnitude_spectrum = 20 * np.log(np.abs(fshift))\n",
    "\n",
    "# Compute the high-frequency energy\n",
    "high_freq_energy = np.sum(magnitude_spectrum[10:-10, 10:-10])\n",
    "\n",
    "# Define a threshold for blur detection\n",
    "threshold = 1000\n",
    "\n",
    "# Check if the high-frequency energy is above the threshold\n",
    "if high_freq_energy > threshold:\n",
    "    print('Image is not blurry')\n",
    "else:\n",
    "    print('Image is blurry')"
   ]
  },
  {
   "cell_type": "markdown",
   "id": "52de70a0",
   "metadata": {},
   "source": [
    "Fourier Transform Method percentage"
   ]
  },
  {
   "cell_type": "code",
   "execution_count": 16,
   "id": "7ab70764",
   "metadata": {},
   "outputs": [
    {
     "name": "stdout",
     "output_type": "stream",
     "text": [
      "Blur score: 0 %\n"
     ]
    }
   ],
   "source": [
    "img = cv2.imread('img03_ex_blur.jpg', cv2.IMREAD_GRAYSCALE)\n",
    "\n",
    "# Compute the 2D Fourier transform of the image\n",
    "f = np.fft.fft2(img)\n",
    "\n",
    "# Shift the zero-frequency component to the center of the spectrum\n",
    "fshift = np.fft.fftshift(f)\n",
    "\n",
    "# Compute the magnitude spectrum of the Fourier transform\n",
    "magnitude_spectrum = 20 * np.log(np.abs(fshift))\n",
    "\n",
    "# Compute the high-frequency energy\n",
    "high_freq_energy = np.sum(magnitude_spectrum[10:-10, 10:-10])\n",
    "\n",
    "# Compute the total energy\n",
    "total_energy = np.sum(magnitude_spectrum)\n",
    "\n",
    "# Compute the blur score\n",
    "blur_score = 1 - (high_freq_energy / total_energy)\n",
    "\n",
    "# Print the blur score as a percentage\n",
    "print('Blur score:', int(blur_score * 100), '%')"
   ]
  },
  {
   "cell_type": "code",
   "execution_count": null,
   "id": "6fb2a065",
   "metadata": {},
   "outputs": [],
   "source": []
  },
  {
   "cell_type": "code",
   "execution_count": null,
   "id": "12296cad",
   "metadata": {},
   "outputs": [],
   "source": []
  }
 ],
 "metadata": {
  "kernelspec": {
   "display_name": "Python 3 (ipykernel)",
   "language": "python",
   "name": "python3"
  },
  "language_info": {
   "codemirror_mode": {
    "name": "ipython",
    "version": 3
   },
   "file_extension": ".py",
   "mimetype": "text/x-python",
   "name": "python",
   "nbconvert_exporter": "python",
   "pygments_lexer": "ipython3",
   "version": "3.9.13"
  }
 },
 "nbformat": 4,
 "nbformat_minor": 5
}
